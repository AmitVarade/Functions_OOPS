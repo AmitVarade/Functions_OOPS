{
  "nbformat": 4,
  "nbformat_minor": 0,
  "metadata": {
    "colab": {
      "provenance": []
    },
    "kernelspec": {
      "name": "python3",
      "display_name": "Python 3"
    },
    "language_info": {
      "name": "python"
    }
  },
  "cells": [
    {
      "cell_type": "code",
      "execution_count": null,
      "metadata": {
        "id": "KqWnBXf5jznO"
      },
      "outputs": [],
      "source": []
    },
    {
      "cell_type": "code",
      "source": [
        "# 2. Write a basic function to greet students\n",
        "\n",
        "def greet_student(name):\n",
        "    print(f\"Hello, {name}! Welcome to the class.\")\n",
        "\n",
        "# Calling the function\n",
        "greet_student(\"Alice\")\n",
        "greet_student(\"Bob\")\n"
      ],
      "metadata": {
        "colab": {
          "base_uri": "https://localhost:8080/"
        },
        "id": "jXZiHaqbmg6Y",
        "outputId": "cc7a317f-22da-426b-8f7c-f199bb0c8305"
      },
      "execution_count": 1,
      "outputs": [
        {
          "output_type": "stream",
          "name": "stdout",
          "text": [
            "Hello, Alice! Welcome to the class.\n",
            "Hello, Bob! Welcome to the class.\n"
          ]
        }
      ]
    },
    {
      "cell_type": "code",
      "source": [
        "# 6. Write a code that generates the squares of numbers from 1 to n using a generator\n",
        "\n",
        "def generate_squares(n):\n",
        "    for i in range(1, n + 1):\n",
        "        yield i * i\n",
        "\n",
        "# Example usage\n",
        "n = 5\n",
        "squares = generate_squares(n)\n",
        "\n",
        "for square in squares:\n",
        "    print(square)\n",
        "\n"
      ],
      "metadata": {
        "colab": {
          "base_uri": "https://localhost:8080/"
        },
        "id": "Wxb3ak1gnTkR",
        "outputId": "2a153e5a-2cad-4382-9e47-2717b4d26d67"
      },
      "execution_count": 2,
      "outputs": [
        {
          "output_type": "stream",
          "name": "stdout",
          "text": [
            "1\n",
            "4\n",
            "9\n",
            "16\n",
            "25\n"
          ]
        }
      ]
    },
    {
      "cell_type": "code",
      "source": [
        "# 7. Write a code that generates palindromic numbers up to n using a generator.\n",
        "\n",
        "def is_palindrome(num):\n",
        "    return str(num) == str(num)[::-1]\n",
        "\n",
        "def generate_palindromes(n):\n",
        "    for i in range(1, n + 1):\n",
        "        if is_palindrome(i):\n",
        "            yield i\n",
        "\n",
        "# Example usage\n",
        "n = 100\n",
        "palindromes = generate_palindromes(n)\n",
        "\n",
        "for palindrome in palindromes:\n",
        "    print(palindrome)\n"
      ],
      "metadata": {
        "colab": {
          "base_uri": "https://localhost:8080/"
        },
        "id": "u4rzK3AnopJP",
        "outputId": "d117e517-af15-4ef7-bce6-bd0436ab7a6c"
      },
      "execution_count": 3,
      "outputs": [
        {
          "output_type": "stream",
          "name": "stdout",
          "text": [
            "1\n",
            "2\n",
            "3\n",
            "4\n",
            "5\n",
            "6\n",
            "7\n",
            "8\n",
            "9\n",
            "11\n",
            "22\n",
            "33\n",
            "44\n",
            "55\n",
            "66\n",
            "77\n",
            "88\n",
            "99\n"
          ]
        }
      ]
    },
    {
      "cell_type": "code",
      "source": [
        "# 8. Write a code that generates even numbers from 2 to n using a generator.\n",
        "\n",
        "def generate_even_numbers(n):\n",
        "    for i in range(2, n + 1, 2):  # Start at 2, go up to n, step by 2\n",
        "        yield i\n",
        "\n",
        "# Example usage\n",
        "n = 20\n",
        "even_numbers = generate_even_numbers(n)\n",
        "\n",
        "for even in even_numbers:\n",
        "    print(even)\n"
      ],
      "metadata": {
        "colab": {
          "base_uri": "https://localhost:8080/"
        },
        "id": "l9JuHfz7o_At",
        "outputId": "7be225f9-12ed-4483-a7a4-a80fb8148186"
      },
      "execution_count": 4,
      "outputs": [
        {
          "output_type": "stream",
          "name": "stdout",
          "text": [
            "2\n",
            "4\n",
            "6\n",
            "8\n",
            "10\n",
            "12\n",
            "14\n",
            "16\n",
            "18\n",
            "20\n"
          ]
        }
      ]
    },
    {
      "cell_type": "code",
      "source": [
        "# 9. Write a code that generates powers of two up to n using a generator.\n",
        "\n",
        "def generate_powers_of_two(n):\n",
        "    power = 1  # Start with 2^0 = 1\n",
        "    while power <= n:\n",
        "        yield power\n",
        "        power *= 2  # Move to the next power of two\n",
        "\n",
        "# Example usage\n",
        "n = 100\n",
        "powers_of_two = generate_powers_of_two(n)\n",
        "\n",
        "for power in powers_of_two:\n",
        "    print(power)\n"
      ],
      "metadata": {
        "colab": {
          "base_uri": "https://localhost:8080/"
        },
        "id": "0Vuqibvppeg5",
        "outputId": "709b3c65-0eca-4482-b480-de54f2a5789f"
      },
      "execution_count": 5,
      "outputs": [
        {
          "output_type": "stream",
          "name": "stdout",
          "text": [
            "1\n",
            "2\n",
            "4\n",
            "8\n",
            "16\n",
            "32\n",
            "64\n"
          ]
        }
      ]
    },
    {
      "cell_type": "code",
      "source": [
        "# 10. Write a code that generates prime numbers up to n using a generator.\n",
        "\n",
        "def is_prime(num):\n",
        "    if num < 2:\n",
        "        return False\n",
        "    for i in range(2, int(num**0.5) + 1):\n",
        "        if num % i == 0:\n",
        "            return False\n",
        "    return True\n",
        "\n",
        "def generate_primes(n):\n",
        "    for i in range(2, n + 1):\n",
        "        if is_prime(i):\n",
        "            yield i\n",
        "\n",
        "# Example usage\n",
        "n = 50\n",
        "primes = generate_primes(n)\n",
        "\n",
        "for prime in primes:\n",
        "    print(prime)\n"
      ],
      "metadata": {
        "colab": {
          "base_uri": "https://localhost:8080/"
        },
        "id": "S94Oq_o9p14X",
        "outputId": "68b36297-a8a7-4197-a2ba-33b46e74e03f"
      },
      "execution_count": 6,
      "outputs": [
        {
          "output_type": "stream",
          "name": "stdout",
          "text": [
            "2\n",
            "3\n",
            "5\n",
            "7\n",
            "11\n",
            "13\n",
            "17\n",
            "19\n",
            "23\n",
            "29\n",
            "31\n",
            "37\n",
            "41\n",
            "43\n",
            "47\n"
          ]
        }
      ]
    },
    {
      "cell_type": "code",
      "source": [
        "# 11. Write a code that uses a lambda function to calculate the sum of two numbers.\n",
        "\n",
        "# Lambda function to calculate the sum of two numbers\n",
        "sum_of_two = lambda a, b: a + b\n",
        "\n",
        "# Example usage\n",
        "result = sum_of_two(5, 7)\n",
        "print(result)\n"
      ],
      "metadata": {
        "colab": {
          "base_uri": "https://localhost:8080/"
        },
        "id": "Kc6Z4nlLqQAz",
        "outputId": "5aa025c6-ac9c-4490-810a-506ee838d661"
      },
      "execution_count": 7,
      "outputs": [
        {
          "output_type": "stream",
          "name": "stdout",
          "text": [
            "12\n"
          ]
        }
      ]
    },
    {
      "cell_type": "code",
      "source": [
        "# 12. Write a code that uses a lambda function to calculate the square of a given number.\n",
        "\n",
        "# Lambda function to calculate the square of a number\n",
        "square = lambda x: x ** 2\n",
        "\n",
        "# Example usage\n",
        "result = square(4)\n",
        "print(result)\n"
      ],
      "metadata": {
        "colab": {
          "base_uri": "https://localhost:8080/"
        },
        "id": "qCKvvKSCqmNg",
        "outputId": "aa8f6b93-6b82-4a75-de7c-d6d12f7c01b8"
      },
      "execution_count": 8,
      "outputs": [
        {
          "output_type": "stream",
          "name": "stdout",
          "text": [
            "16\n"
          ]
        }
      ]
    },
    {
      "cell_type": "code",
      "source": [
        "# 13.  Write a code that uses a lambda function to check whether a given number is even or odd.\n",
        "\n",
        "# Lambda function to check whether a number is even or odd\n",
        "even_or_odd = lambda x: \"Even\" if x % 2 == 0 else \"Odd\"\n",
        "\n",
        "# Example usage\n",
        "result = even_or_odd(5)\n",
        "print(result)  # Output: Odd\n",
        "\n",
        "result = even_or_odd(8)\n",
        "print(result)  # Output: Even\n"
      ],
      "metadata": {
        "colab": {
          "base_uri": "https://localhost:8080/"
        },
        "id": "fvrxZ2tLq9NR",
        "outputId": "d81db64c-8eff-46f9-87c0-e196de35addb"
      },
      "execution_count": 9,
      "outputs": [
        {
          "output_type": "stream",
          "name": "stdout",
          "text": [
            "Odd\n",
            "Even\n"
          ]
        }
      ]
    },
    {
      "cell_type": "code",
      "source": [
        "# 15. Write a code that uses a lambda function to concatenate two strings.\n",
        "\n",
        "# Lambda function to concatenate two strings\n",
        "concatenate = lambda str1, str2: str1 + str2\n",
        "\n",
        "# Example usage\n",
        "result = concatenate(\"Hello, \", \"World!\")\n",
        "print(result)\n"
      ],
      "metadata": {
        "colab": {
          "base_uri": "https://localhost:8080/"
        },
        "id": "vx49JwvQrgBW",
        "outputId": "cb0f76ee-7852-492e-c686-d774cc234b6d"
      },
      "execution_count": 10,
      "outputs": [
        {
          "output_type": "stream",
          "name": "stdout",
          "text": [
            "Hello, World!\n"
          ]
        }
      ]
    },
    {
      "cell_type": "code",
      "source": [
        "# 16. Write a code that uses a lambda function to find the maximum of three given numbers.\n",
        "\n",
        "# Lambda function to find the maximum of three numbers\n",
        "max_of_three = lambda x, y, z: max(x, y, z)\n",
        "\n",
        "# Example usage\n",
        "result = max_of_three(5, 10, 3)\n",
        "print(result)\n"
      ],
      "metadata": {
        "colab": {
          "base_uri": "https://localhost:8080/"
        },
        "id": "gL_6_6ctrwRH",
        "outputId": "b1c58def-fb53-4f89-84e5-467ce452352a"
      },
      "execution_count": 11,
      "outputs": [
        {
          "output_type": "stream",
          "name": "stdout",
          "text": [
            "10\n"
          ]
        }
      ]
    },
    {
      "cell_type": "code",
      "source": [
        "# 17. Write a code that generates the squares of even numbers from a given list.\n",
        "\n",
        "# Given list of numbers\n",
        "numbers = [1, 2, 3, 4, 5, 6, 7, 8, 9, 10]\n",
        "\n",
        "# Using list comprehension to generate squares of even numbers\n",
        "squares_of_evens = [x**2 for x in numbers if x % 2 == 0]\n",
        "\n",
        "# Example usage\n",
        "print(squares_of_evens)\n"
      ],
      "metadata": {
        "colab": {
          "base_uri": "https://localhost:8080/"
        },
        "id": "jWxKYFZosv2c",
        "outputId": "1e63cdb9-41d4-4691-c240-09dbc9302888"
      },
      "execution_count": 13,
      "outputs": [
        {
          "output_type": "stream",
          "name": "stdout",
          "text": [
            "[4, 16, 36, 64, 100]\n"
          ]
        }
      ]
    },
    {
      "cell_type": "code",
      "source": [
        "# 18. Write a code that calculates the product of positive numbers from a given list.\n",
        "\n",
        "from functools import reduce\n",
        "\n",
        "# Given list of numbers\n",
        "numbers = [1, -2, 3, 4, -5, 6, 7, -8]\n",
        "\n",
        "# Using filter to get positive numbers and reduce to calculate the product\n",
        "positive_numbers = filter(lambda x: x > 0, numbers)\n",
        "product = reduce(lambda x, y: x * y, positive_numbers, 1)\n",
        "\n",
        "# Example usage\n",
        "print(product)\n"
      ],
      "metadata": {
        "colab": {
          "base_uri": "https://localhost:8080/"
        },
        "id": "hx6rmbLQs8fR",
        "outputId": "f4ccdb7b-0a96-4df7-9225-e16af191c902"
      },
      "execution_count": 14,
      "outputs": [
        {
          "output_type": "stream",
          "name": "stdout",
          "text": [
            "504\n"
          ]
        }
      ]
    },
    {
      "cell_type": "code",
      "source": [
        "# 19. Write a code that doubles the values of odd numbers from a given list.\n",
        "\n",
        "# Given list of numbers\n",
        "numbers = [1, 2, 3, 4, 5, 6, 7, 8, 9]\n",
        "\n",
        "# Using list comprehension to double the odd numbers\n",
        "doubled_odds = [x * 2 if x % 2 != 0 else x for x in numbers]\n",
        "\n",
        "# Example usage\n",
        "print(doubled_odds)\n"
      ],
      "metadata": {
        "colab": {
          "base_uri": "https://localhost:8080/"
        },
        "id": "CMyWyLIltY76",
        "outputId": "01702412-f5f9-41a4-cfda-aefbf1b926c0"
      },
      "execution_count": 15,
      "outputs": [
        {
          "output_type": "stream",
          "name": "stdout",
          "text": [
            "[2, 2, 6, 4, 10, 6, 14, 8, 18]\n"
          ]
        }
      ]
    },
    {
      "cell_type": "code",
      "source": [
        "# 20. Write a code that calculates the sum of cubes of numbers from a given list.\n",
        "\n",
        "# Given list of numbers\n",
        "numbers = [1, 2, 3, 4, 5]\n",
        "\n",
        "# Using list comprehension to calculate the sum of cubes\n",
        "sum_of_cubes = sum([x**3 for x in numbers])\n",
        "\n",
        "# Example usage\n",
        "print(sum_of_cubes)\n"
      ],
      "metadata": {
        "colab": {
          "base_uri": "https://localhost:8080/"
        },
        "id": "h8gnrx8ztv07",
        "outputId": "046345e2-84c3-421f-f651-d1dbd298a912"
      },
      "execution_count": 16,
      "outputs": [
        {
          "output_type": "stream",
          "name": "stdout",
          "text": [
            "225\n"
          ]
        }
      ]
    },
    {
      "cell_type": "code",
      "source": [
        "# 21. Write a code that filters out prime numbers from a given list.\n",
        "\n",
        "def is_prime(num):\n",
        "    if num < 2:\n",
        "        return False\n",
        "    for i in range(2, int(num**0.5) + 1):\n",
        "        if num % i == 0:\n",
        "            return False\n",
        "    return True\n",
        "\n",
        "# Given list of numbers\n",
        "numbers = [1, 2, 3, 4, 5, 6, 7, 8, 9, 10]\n",
        "\n",
        "# Using filter() to filter out prime numbers\n",
        "filtered_numbers = list(filter(lambda x: not is_prime(x), numbers))\n",
        "\n",
        "# Example usage\n",
        "print(filtered_numbers)\n"
      ],
      "metadata": {
        "colab": {
          "base_uri": "https://localhost:8080/"
        },
        "id": "3CvyuAGpuGgI",
        "outputId": "e9c4aef4-f531-4539-a4ae-3555cb7dcd11"
      },
      "execution_count": 17,
      "outputs": [
        {
          "output_type": "stream",
          "name": "stdout",
          "text": [
            "[1, 4, 6, 8, 9, 10]\n"
          ]
        }
      ]
    },
    {
      "cell_type": "code",
      "source": [
        "# 22. Write a code that uses a lambda function to calculate the sum of two numbers.\n",
        "\n",
        "# Lambda function to calculate the sum of two numbers\n",
        "sum_of_two = lambda x, y: x + y\n",
        "\n",
        "# Example usage\n",
        "result = sum_of_two(5, 7)\n",
        "print(result)\n"
      ],
      "metadata": {
        "colab": {
          "base_uri": "https://localhost:8080/"
        },
        "id": "G9E05-hIulA6",
        "outputId": "cba99d59-70ee-42ae-dac4-3fe70f48f296"
      },
      "execution_count": 18,
      "outputs": [
        {
          "output_type": "stream",
          "name": "stdout",
          "text": [
            "12\n"
          ]
        }
      ]
    },
    {
      "cell_type": "code",
      "source": [
        "# 23. Write a code that uses a lambda function to calculate the square of a given numbers.\n",
        "\n",
        "# Lambda function to calculate the square of a number\n",
        "square = lambda x: x ** 2\n",
        "\n",
        "# Example usage\n",
        "result = square(5)\n",
        "print(result)\n"
      ],
      "metadata": {
        "colab": {
          "base_uri": "https://localhost:8080/"
        },
        "id": "sr-DpIq-vDxN",
        "outputId": "fd452f5e-b433-43d8-de91-27887b2e258a"
      },
      "execution_count": 19,
      "outputs": [
        {
          "output_type": "stream",
          "name": "stdout",
          "text": [
            "25\n"
          ]
        }
      ]
    },
    {
      "cell_type": "code",
      "source": [
        "# 24. Write a code that uses a lambda function to check whether a given number is even or odd.\n",
        "\n",
        "# Lambda function to check if a number is even or odd\n",
        "even_or_odd = lambda x: \"Even\" if x % 2 == 0 else \"Odd\"\n",
        "\n",
        "# Example usage\n",
        "result = even_or_odd(7)\n",
        "print(result)  # Output: Odd\n",
        "\n",
        "result = even_or_odd(10)\n",
        "print(result)  # Output: Even\n"
      ],
      "metadata": {
        "colab": {
          "base_uri": "https://localhost:8080/"
        },
        "id": "bm_pDB0IvoSo",
        "outputId": "d38b3161-1063-443c-bf74-085e0f8e72e1"
      },
      "execution_count": 20,
      "outputs": [
        {
          "output_type": "stream",
          "name": "stdout",
          "text": [
            "Odd\n",
            "Even\n"
          ]
        }
      ]
    },
    {
      "cell_type": "code",
      "source": [
        "# 25. Write a code that uses a lambda function to concatenate two strings.\n",
        "\n",
        "# Lambda function to concatenate two strings\n",
        "concatenate = lambda str1, str2: str1 + str2\n",
        "\n",
        "# Example usage\n",
        "result = concatenate(\"Hello, \", \"World!\")\n",
        "print(result)\n"
      ],
      "metadata": {
        "colab": {
          "base_uri": "https://localhost:8080/"
        },
        "id": "aayac0WWv7Hh",
        "outputId": "fd0ccde5-c181-4cee-e587-9f1e3a7f37ce"
      },
      "execution_count": 21,
      "outputs": [
        {
          "output_type": "stream",
          "name": "stdout",
          "text": [
            "Hello, World!\n"
          ]
        }
      ]
    },
    {
      "cell_type": "code",
      "source": [
        "# 26. Write a code that uses a lambda function to find the maximum of three given numbers.\n",
        "\n",
        "# Lambda function to find the maximum of three numbers\n",
        "max_of_three = lambda x, y, z: max(x, y, z)\n",
        "\n",
        "# Example usage\n",
        "result = max_of_three(5, 10, 3)\n",
        "print(result)\n"
      ],
      "metadata": {
        "colab": {
          "base_uri": "https://localhost:8080/"
        },
        "id": "mePHNJ9owJaF",
        "outputId": "9c78ed65-d735-4dae-d895-02b61529b79a"
      },
      "execution_count": 22,
      "outputs": [
        {
          "output_type": "stream",
          "name": "stdout",
          "text": [
            "10\n"
          ]
        }
      ]
    },
    {
      "cell_type": "code",
      "source": [
        "\"\"\"\n",
        " 32. Define a parent class Animal with a method make_sound that prints \"Generic animal sound\". Create a\n",
        "child class Dog inheriting from Animal with a method make_sound that prints \"Woof!\"\n",
        "\"\"\"\n",
        "\n",
        "# Parent class Animal\n",
        "class Animal:\n",
        "    def make_sound(self):\n",
        "        print(\"Generic animal sound\")\n",
        "\n",
        "# Child class Dog inheriting from Animal\n",
        "class Dog(Animal):\n",
        "    def make_sound(self):\n",
        "        print(\"Woof!\")\n",
        "\n",
        "# Example usage\n",
        "animal = Animal()\n",
        "animal.make_sound()  # Output: Generic animal sound\n",
        "\n",
        "dog = Dog()\n",
        "dog.make_sound()     # Output: Woof!\n"
      ],
      "metadata": {
        "colab": {
          "base_uri": "https://localhost:8080/"
        },
        "id": "YCGjVuYXw9TG",
        "outputId": "d6b7f56e-2039-42c5-ef3a-d297974e31e7"
      },
      "execution_count": 23,
      "outputs": [
        {
          "output_type": "stream",
          "name": "stdout",
          "text": [
            "Generic animal sound\n",
            "Woof!\n"
          ]
        }
      ]
    },
    {
      "cell_type": "code",
      "source": [
        "\"\"\"\n",
        "33. Define a method move in the Animal class that prints \"Animal moves\". Override the move method in the\n",
        "Dog class to print \"Dog runs.\n",
        "\"\"\"\n",
        "\n",
        "# Parent class Animal\n",
        "class Animal:\n",
        "    def make_sound(self):\n",
        "        print(\"Generic animal sound\")\n",
        "\n",
        "    def move(self):\n",
        "        print(\"Animal moves\")\n",
        "\n",
        "# Child class Dog inheriting from Animal\n",
        "class Dog(Animal):\n",
        "    def make_sound(self):\n",
        "        print(\"Woof!\")\n",
        "\n",
        "    def move(self):\n",
        "        print(\"Dog runs\")\n",
        "\n",
        "# Example usage\n",
        "animal = Animal()\n",
        "animal.make_sound()  # Output: Generic animal sound\n",
        "animal.move()        # Output: Animal moves\n",
        "\n",
        "dog = Dog()\n",
        "dog.make_sound()     # Output: Woof!\n",
        "dog.move()           # Output: Dog runs\n"
      ],
      "metadata": {
        "colab": {
          "base_uri": "https://localhost:8080/"
        },
        "id": "4M4htcs-xOC-",
        "outputId": "d18b8141-dcdf-4036-a430-31ca88a23842"
      },
      "execution_count": 24,
      "outputs": [
        {
          "output_type": "stream",
          "name": "stdout",
          "text": [
            "Generic animal sound\n",
            "Animal moves\n",
            "Woof!\n",
            "Dog runs\n"
          ]
        }
      ]
    },
    {
      "cell_type": "code",
      "source": [
        "\"\"\"\n",
        "34. Create a class Mammal with a method reproduce that prints \"Giving birth to live young.\" Create a class\n",
        "DogMammal inheriting from both Dog and Mammal.\n",
        "\"\"\"\n",
        "\n",
        "# Parent class Animal\n",
        "class Animal:\n",
        "    def make_sound(self):\n",
        "        print(\"Generic animal sound\")\n",
        "\n",
        "    def move(self):\n",
        "        print(\"Animal moves\")\n",
        "\n",
        "# Child class Dog inheriting from Animal\n",
        "class Dog(Animal):\n",
        "    def make_sound(self):\n",
        "        print(\"Woof!\")\n",
        "\n",
        "    def move(self):\n",
        "        print(\"Dog runs\")\n",
        "\n",
        "# Parent class Mammal\n",
        "class Mammal:\n",
        "    def reproduce(self):\n",
        "        print(\"Giving birth to live young.\")\n",
        "\n",
        "# Child class DogMammal inheriting from both Dog and Mammal\n",
        "class DogMammal(Dog, Mammal):\n",
        "    pass\n",
        "\n",
        "# Example usage\n",
        "dog_mammal = DogMammal()\n",
        "dog_mammal.make_sound()  # Output: Woof!\n",
        "dog_mammal.move()        # Output: Dog runs\n",
        "dog_mammal.reproduce()   # Output: Giving birth to live young.\n"
      ],
      "metadata": {
        "colab": {
          "base_uri": "https://localhost:8080/"
        },
        "id": "pFWG5JZZxpkO",
        "outputId": "3fc6e0e7-3008-4ff1-db6e-5d52a199447d"
      },
      "execution_count": 26,
      "outputs": [
        {
          "output_type": "stream",
          "name": "stdout",
          "text": [
            "Woof!\n",
            "Dog runs\n",
            "Giving birth to live young.\n"
          ]
        }
      ]
    },
    {
      "cell_type": "code",
      "source": [
        "\"\"\"\n",
        "35. Create a class GermanShepherd inheriting from Dog and override the make_sound method to print\n",
        "\"Bark!\"\n",
        "\"\"\"\n",
        "\n",
        "# Parent class Dog\n",
        "class Dog:\n",
        "    def make_sound(self):\n",
        "        print(\"Woof!\")\n",
        "\n",
        "    def move(self):\n",
        "        print(\"Dog runs\")\n",
        "\n",
        "# Child class GermanShepherd inheriting from Dog\n",
        "class GermanShepherd(Dog):\n",
        "    def make_sound(self):\n",
        "        print(\"Bark!\")\n",
        "\n",
        "# Example usage\n",
        "dog = Dog()\n",
        "dog.make_sound()  # Output: Woof!\n",
        "\n",
        "german_shepherd = GermanShepherd()\n",
        "german_shepherd.make_sound()  # Output: Bark!\n"
      ],
      "metadata": {
        "colab": {
          "base_uri": "https://localhost:8080/"
        },
        "id": "023N2QxNyHgX",
        "outputId": "205a3fb4-bbdc-49f1-f2c2-5cb86dd3e4e6"
      },
      "execution_count": 27,
      "outputs": [
        {
          "output_type": "stream",
          "name": "stdout",
          "text": [
            "Woof!\n",
            "Bark!\n"
          ]
        }
      ]
    },
    {
      "cell_type": "code",
      "source": [
        "# 37. What is abstraction in Python? How is it implemented ?\n",
        "\n",
        "\"\"\"\n",
        "In Python, abstraction is a core object-oriented programming concept that involves creating \"abstract classes\" which act as blueprints for other classes,\n",
        "allowing developers to define common functionalities without getting bogged down in specific implementation details, essentially focusing on \"what\"\n",
        "a class does rather than \"how\" it does it; this is achieved primarily using the abc module to define abstract base classes and abstract methods within them,\n",
        "which must be implemented by any subclass inheriting from them.\n",
        "\"\"\""
      ],
      "metadata": {
        "id": "YKRliQaSzAu8"
      },
      "execution_count": null,
      "outputs": []
    },
    {
      "cell_type": "code",
      "source": [
        "# 38. Explain the importance of abstraction in object-oriented programming.\n",
        "\n",
        "\"\"\"\n",
        "Abstraction in object-oriented programming is crucial because it allows developers to focus on the essential features and functionalities of an object,\n",
        "hiding the complex implementation details, which simplifies code design, enhances readability, promotes code reusability, and ultimately makes software\n",
        "systems easier to manage and maintain by reducing complexity\n",
        "\"\"\""
      ],
      "metadata": {
        "id": "HTA6dYq0zbsS"
      },
      "execution_count": null,
      "outputs": []
    },
    {
      "cell_type": "code",
      "source": [
        "# 39. How are abstract methods different from regular methods in Python?\n",
        "\n",
        "\"\"\"\n",
        "In Python, an abstract method is a method declared within a class but without a concrete implementation, essentially acting as a placeholder that must be\n",
        "overridden by subclasses when inherited, while a regular method is a fully defined method with its own code that can be directly executed when called on an\n",
        "object; the key difference is that abstract methods enforce a consistent interface by requiring subclasses to provide their own implementation, whereas\n",
        "regular methods have a complete functionality within the class they are defined in\n",
        "\"\"\""
      ],
      "metadata": {
        "id": "Ntz1DRvt0UcJ"
      },
      "execution_count": null,
      "outputs": []
    },
    {
      "cell_type": "code",
      "source": [
        "# 40. How can you achieve abstraction using interfaces in Python?\n",
        "\n",
        "\"\"\"\n",
        "Abstraction in Python is achieved using abstract classes or interfaces provided by the \"abc\" module. Abstract classes define a common interface for their\n",
        "subclasses, while interfaces define a set of methods that must be implemented by classes that implement the interface.\n",
        "\"\"\""
      ],
      "metadata": {
        "id": "8-gKDRnu9MRm"
      },
      "execution_count": null,
      "outputs": []
    },
    {
      "cell_type": "code",
      "source": [
        "# 42. How does Python achieve polymorphism through method overriding?\n",
        "\n",
        "\"\"\"\n",
        "In Python, polymorphism is achieved through method overriding, where a subclass (child class) redefines a method inherited from its parent class,\n",
        "allowing objects of different classes to be treated as the same type when the method is called, providing customized behavior based on the specific\n",
        "class involved; essentially, the same method name can perform different actions depending on which class object is being used.\n",
        "\"\"\""
      ],
      "metadata": {
        "id": "_0u96gUp9klo"
      },
      "execution_count": null,
      "outputs": []
    },
    {
      "cell_type": "code",
      "source": [
        "# 43. Define a base class with a method and a subclass that overrides the method.\n",
        "\n",
        "# Base class\n",
        "class Animal:\n",
        "    def make_sound(self):\n",
        "        print(\"Animal makes a sound\")\n",
        "\n",
        "# Subclass that overrides the method\n",
        "class Dog(Animal):\n",
        "    def make_sound(self):\n",
        "        print(\"Woof! Woof!\")\n",
        "\n",
        "# Example usage\n",
        "animal = Animal()\n",
        "animal.make_sound()  # Output: Animal makes a sound\n",
        "\n",
        "dog = Dog()\n",
        "dog.make_sound()     # Output: Woof! Woof!\n",
        "\n"
      ],
      "metadata": {
        "colab": {
          "base_uri": "https://localhost:8080/"
        },
        "id": "iWnbaheG93zK",
        "outputId": "877efa87-4d46-48b6-e839-6c44916f49b9"
      },
      "execution_count": 30,
      "outputs": [
        {
          "output_type": "stream",
          "name": "stdout",
          "text": [
            "Animal makes a sound\n",
            "Woof! Woof!\n"
          ]
        }
      ]
    },
    {
      "cell_type": "code",
      "source": [
        "# 44. Define a base class and multiple subclasses with overridden methods.\n",
        "\n",
        "# Base class\n",
        "class Animal:\n",
        "    def make_sound(self):\n",
        "        print(\"Animal makes a sound\")\n",
        "\n",
        "# Subclass 1: Dog overrides the method\n",
        "class Dog(Animal):\n",
        "    def make_sound(self):\n",
        "        print(\"Woof! Woof!\")\n",
        "\n",
        "# Subclass 2: Cat overrides the method\n",
        "class Cat(Animal):\n",
        "    def make_sound(self):\n",
        "        print(\"Meow! Meow!\")\n",
        "\n",
        "# Subclass 3: Cow overrides the method\n",
        "class Cow(Animal):\n",
        "    def make_sound(self):\n",
        "        print(\"Moo! Moo!\")\n",
        "\n",
        "# Example usage\n",
        "animal = Animal()\n",
        "animal.make_sound()  # Output: Animal makes a sound\n",
        "\n",
        "dog = Dog()\n",
        "dog.make_sound()     # Output: Woof! Woof!\n",
        "\n",
        "cat = Cat()\n",
        "cat.make_sound()     # Output: Meow! Meow!\n",
        "\n",
        "cow = Cow()\n",
        "cow.make_sound()     # Output: Moo! Moo!\n"
      ],
      "metadata": {
        "colab": {
          "base_uri": "https://localhost:8080/"
        },
        "id": "44Iil6pQ-WRq",
        "outputId": "1eb17631-5e25-4ccb-b0f4-535549b42758"
      },
      "execution_count": 31,
      "outputs": [
        {
          "output_type": "stream",
          "name": "stdout",
          "text": [
            "Animal makes a sound\n",
            "Woof! Woof!\n",
            "Meow! Meow!\n",
            "Moo! Moo!\n"
          ]
        }
      ]
    },
    {
      "cell_type": "code",
      "source": [
        "# 45.  How does polymorphism improve code readability and reusability?\n",
        "\n",
        "\"\"\"\n",
        "Polymorphism in Python enhances code readability and reusability by allowing objects of different types to be treated as if they were of a common type,\n",
        "meaning you can write generic code that works with various objects without needing to know their specific implementations, leading to cleaner, more concise,\n",
        "and easier-to-understand code that can be reused across different situations.\n",
        "\"\"\""
      ],
      "metadata": {
        "id": "5FLwq7mg-y8B"
      },
      "execution_count": null,
      "outputs": []
    },
    {
      "cell_type": "code",
      "source": [
        "# 46.  Describe how Python supports polymorphism with duck typing.\n",
        "\n",
        "\"\"\"\n",
        "In Python, if an object “walks like a duck and quacks like a duck, it is a duck”, meaning that an object doesn't need to explicitly inherit from a particular\n",
        "class to be treated as an object of that type. Duck typing is the principle that allows for the implicit implementation of polymorphism in Python.\n",
        "\"\"\""
      ],
      "metadata": {
        "id": "vQ2blWnK_JQw"
      },
      "execution_count": null,
      "outputs": []
    },
    {
      "cell_type": "code",
      "source": [
        "# 47. How do you achieve encapsulation in Python?\n",
        "\n",
        "\"\"\"\n",
        "In Python, encapsulation is achieved by using a naming convention where variables and methods prefixed with a double underscore (\"__\") are considered private,\n",
        "meaning they are intended to be accessed only within the class they are defined in, effectively hiding internal data and enforcing access through public\n",
        "methods; this is known as \"name mangling\" in Python.\n",
        "\"\"\""
      ],
      "metadata": {
        "id": "WCjEGxkH_gbq"
      },
      "execution_count": null,
      "outputs": []
    },
    {
      "cell_type": "code",
      "source": [
        "# 48. Can encapsulation be bypassed in Python? If so, how?\n",
        "\n",
        "\"\"\"\n",
        "Common pitfalls include overusing private variables, which can make the code difficult to maintain, and not providing adequate access methods\n",
        "(getters/setters) which can lead to fragile code. Additionally, developers might forget that Python's encapsulation is by convention, and thus,\n",
        "it can be bypassed.\n",
        "\"\"\""
      ],
      "metadata": {
        "id": "9eN9MtRy_82t"
      },
      "execution_count": null,
      "outputs": []
    },
    {
      "cell_type": "code",
      "source": [
        "\"\"\"\n",
        "49. Implement a class BankAccount with a private balance attribute. Include methods to deposit, withdraw,\n",
        "and check the balance.\n",
        "\"\"\"\n",
        "\n",
        "class BankAccount:\n",
        "    def __init__(self, initial_balance=0):\n",
        "        # Private attribute balance\n",
        "        self.__balance = initial_balance\n",
        "\n",
        "    # Method to deposit money into the account\n",
        "    def deposit(self, amount):\n",
        "        if amount > 0:\n",
        "            self.__balance += amount\n",
        "            print(f\"Deposited: ${amount}. New balance: ${self.__balance}\")\n",
        "        else:\n",
        "            print(\"Deposit amount must be positive.\")\n",
        "\n",
        "    # Method to withdraw money from the account\n",
        "    def withdraw(self, amount):\n",
        "        if amount > 0:\n",
        "            if self.__balance >= amount:\n",
        "                self.__balance -= amount\n",
        "                print(f\"Withdrew: ${amount}. New balance: ${self.__balance}\")\n",
        "            else:\n",
        "                print(\"Insufficient balance.\")\n",
        "        else:\n",
        "            print(\"Withdrawal amount must be positive.\")\n",
        "\n",
        "    # Method to check the balance\n",
        "    def check_balance(self):\n",
        "        print(f\"Current balance: ${self.__balance}\")\n",
        "\n",
        "\n",
        "# Example usage\n",
        "account = BankAccount(100)  # Create a BankAccount with an initial balance of $100\n",
        "\n",
        "account.check_balance()  # Output: Current balance: $100\n",
        "account.deposit(50)      # Output: Deposited: $50. New balance: $150\n",
        "account.withdraw(30)     # Output: Withdrew: $30. New balance: $120\n",
        "account.check_balance()  # Output: Current balance: $120\n",
        "account.withdraw(200)    # Output: Insufficient balance.\n",
        "account.deposit(-20)     # Output: Deposit amount must be positive.\n"
      ],
      "metadata": {
        "colab": {
          "base_uri": "https://localhost:8080/"
        },
        "id": "1_JXS3SlASfH",
        "outputId": "9a711329-51c4-4c10-c349-4cd98bdec6e9"
      },
      "execution_count": 32,
      "outputs": [
        {
          "output_type": "stream",
          "name": "stdout",
          "text": [
            "Current balance: $100\n",
            "Deposited: $50. New balance: $150\n",
            "Withdrew: $30. New balance: $120\n",
            "Current balance: $120\n",
            "Insufficient balance.\n",
            "Deposit amount must be positive.\n"
          ]
        }
      ]
    },
    {
      "cell_type": "code",
      "source": [
        "\"\"\"\n",
        "50. Develop a Person class with private attributes name and email, and methods to set and get the email.\n",
        "\"\"\"\n",
        "\n",
        "class Person:\n",
        "    def __init__(self, name, email):\n",
        "        # Private attributes for name and email\n",
        "        self.__name = name\n",
        "        self.__email = email\n",
        "\n",
        "    # Method to set the email\n",
        "    def set_email(self, email):\n",
        "        self.__email = email\n",
        "        print(f\"Email has been updated to: {self.__email}\")\n",
        "\n",
        "    # Method to get the email\n",
        "    def get_email(self):\n",
        "        return self.__email\n",
        "\n",
        "    # Method to get the name (public access to private name)\n",
        "    def get_name(self):\n",
        "        return self.__name\n",
        "\n",
        "\n",
        "# Example usage\n",
        "person = Person(\"John Doe\", \"john.doe@example.com\")\n",
        "\n",
        "# Accessing the private email through methods\n",
        "print(\"Email:\", person.get_email())  # Output: Email: john.doe@example.com\n",
        "\n",
        "# Updating the email using the set_email method\n",
        "person.set_email(\"new.email@example.com\")  # Output: Email has been updated to: new.email@example.com\n",
        "\n",
        "# Accessing the updated email\n",
        "print(\"Updated Email:\", person.get_email())  # Output: Updated Email: new.email@example.com\n",
        "\n",
        "# Accessing the name using the get_name method\n",
        "print(\"Name:\", person.get_name())  # Output: Name: John Doe\n"
      ],
      "metadata": {
        "colab": {
          "base_uri": "https://localhost:8080/"
        },
        "id": "BovZfF5rArev",
        "outputId": "efb12271-7fb6-447a-ad28-d59d2d0c1023"
      },
      "execution_count": 33,
      "outputs": [
        {
          "output_type": "stream",
          "name": "stdout",
          "text": [
            "Email: john.doe@example.com\n",
            "Email has been updated to: new.email@example.com\n",
            "Updated Email: new.email@example.com\n",
            "Name: John Doe\n"
          ]
        }
      ]
    },
    {
      "cell_type": "code",
      "source": [
        "# 51. Why is encapsulation considered a pillar of object-oriented programming (OOP)?\n",
        "\n",
        "\"\"\"\n",
        "Encapsulation is considered a pillar of OOP because it allows developers to bundle data (attributes) with the methods that operate on that data within a\n",
        "single unit (class), effectively hiding internal implementation details and protecting data integrity by controlling how other parts of the program can\n",
        "access and modify it, leading to more secure, organized, and maintainable code.\n",
        "\"\"\""
      ],
      "metadata": {
        "id": "xpBY1UGFBCle"
      },
      "execution_count": null,
      "outputs": []
    },
    {
      "cell_type": "code",
      "source": [
        "\"\"\"\n",
        "52. Create a decorator in Python that adds functionality to a simple function by printing a message before\n",
        "and after the function execution.\n",
        "\"\"\"\n",
        "\n",
        "# Defining the decorator function\n",
        "def add_messages(func):\n",
        "    def wrapper(*args, **kwargs):\n",
        "        print(\"Before function execution\")\n",
        "        result = func(*args, **kwargs)  # Call the original function\n",
        "        print(\"After function execution\")\n",
        "        return result\n",
        "    return wrapper\n",
        "\n",
        "# Simple function to demonstrate the decorator\n",
        "@add_messages\n",
        "def say_hello(name):\n",
        "    print(f\"Hello, {name}!\")\n",
        "\n",
        "# Example usage\n",
        "say_hello(\"Alice\")\n"
      ],
      "metadata": {
        "colab": {
          "base_uri": "https://localhost:8080/"
        },
        "id": "Id9nkl2lBY9I",
        "outputId": "a664d87d-1959-4cd5-de35-69567ed86706"
      },
      "execution_count": 34,
      "outputs": [
        {
          "output_type": "stream",
          "name": "stdout",
          "text": [
            "Before function execution\n",
            "Hello, Alice!\n",
            "After function execution\n"
          ]
        }
      ]
    },
    {
      "cell_type": "code",
      "source": [
        "# 53. Modify the decorator to accept arguments and print the function name along with the message.\n",
        "\n",
        "# Defining the decorator function that accepts arguments\n",
        "def add_messages(message):\n",
        "    def decorator(func):\n",
        "        def wrapper(*args, **kwargs):\n",
        "            print(f\"{message} - Function '{func.__name__}' is about to execute.\")\n",
        "            result = func(*args, **kwargs)  # Call the original function\n",
        "            print(f\"{message} - Function '{func.__name__}' has finished execution.\")\n",
        "            return result\n",
        "        return wrapper\n",
        "    return decorator\n",
        "\n",
        "# Simple function to demonstrate the decorator\n",
        "@add_messages(\"Info\")\n",
        "def say_hello(name):\n",
        "    print(f\"Hello, {name}!\")\n",
        "\n",
        "# Example usage\n",
        "say_hello(\"Alice\")\n"
      ],
      "metadata": {
        "colab": {
          "base_uri": "https://localhost:8080/"
        },
        "id": "knRsP1NeB20h",
        "outputId": "d7ae4c7a-5528-4dd1-d25f-784e7c46b8de"
      },
      "execution_count": 35,
      "outputs": [
        {
          "output_type": "stream",
          "name": "stdout",
          "text": [
            "Info - Function 'say_hello' is about to execute.\n",
            "Hello, Alice!\n",
            "Info - Function 'say_hello' has finished execution.\n"
          ]
        }
      ]
    },
    {
      "cell_type": "code",
      "source": [
        "\"\"\"\n",
        "54. Create two decorators, and apply them to a single function. Ensure that they execute in the order they are\n",
        "applied.\n",
        "\"\"\"\n",
        "\n",
        "# First decorator that adds a message before function execution\n",
        "def decorator_one(func):\n",
        "    def wrapper(*args, **kwargs):\n",
        "        print(\"Decorator One: Before function execution\")\n",
        "        result = func(*args, **kwargs)\n",
        "        print(\"Decorator One: After function execution\")\n",
        "        return result\n",
        "    return wrapper\n",
        "\n",
        "# Second decorator that adds a message before function execution\n",
        "def decorator_two(func):\n",
        "    def wrapper(*args, **kwargs):\n",
        "        print(\"Decorator Two: Before function execution\")\n",
        "        result = func(*args, **kwargs)\n",
        "        print(\"Decorator Two: After function execution\")\n",
        "        return result\n",
        "    return wrapper\n",
        "\n",
        "# Applying both decorators to the same function\n",
        "@decorator_one\n",
        "@decorator_two\n",
        "def say_hello(name):\n",
        "    print(f\"Hello, {name}!\")\n",
        "\n",
        "# Example usage\n",
        "say_hello(\"Alice\")\n"
      ],
      "metadata": {
        "colab": {
          "base_uri": "https://localhost:8080/"
        },
        "id": "BxfeTRc5CTq7",
        "outputId": "caa073b6-29cc-4849-8896-5cf690f96cf8"
      },
      "execution_count": 36,
      "outputs": [
        {
          "output_type": "stream",
          "name": "stdout",
          "text": [
            "Decorator One: Before function execution\n",
            "Decorator Two: Before function execution\n",
            "Hello, Alice!\n",
            "Decorator Two: After function execution\n",
            "Decorator One: After function execution\n"
          ]
        }
      ]
    },
    {
      "cell_type": "code",
      "source": [
        "# 55. Modify the decorator to accept and pass function arguments to the wrapped function.\n",
        "\n",
        "# First decorator that adds a message before function execution\n",
        "def decorator_one(func):\n",
        "    def wrapper(*args, **kwargs):\n",
        "        print(\"Decorator One: Before function execution\")\n",
        "        result = func(*args, **kwargs)  # Pass arguments to the wrapped function\n",
        "        print(\"Decorator One: After function execution\")\n",
        "        return result\n",
        "    return wrapper\n",
        "\n",
        "# Second decorator that adds a message before function execution\n",
        "def decorator_two(func):\n",
        "    def wrapper(*args, **kwargs):\n",
        "        print(\"Decorator Two: Before function execution\")\n",
        "        result = func(*args, **kwargs)  # Pass arguments to the wrapped function\n",
        "        print(\"Decorator Two: After function execution\")\n",
        "        return result\n",
        "    return wrapper\n",
        "\n",
        "# Applying both decorators to the same function\n",
        "@decorator_one\n",
        "@decorator_two\n",
        "def say_hello(name, age):\n",
        "    print(f\"Hello, {name}! You are {age} years old.\")\n",
        "\n",
        "# Example usage\n",
        "say_hello(\"Alice\", 30)\n"
      ],
      "metadata": {
        "colab": {
          "base_uri": "https://localhost:8080/"
        },
        "id": "u8P5MfeJCkMD",
        "outputId": "f3e6d94d-a92f-4395-9bdc-911ba2347750"
      },
      "execution_count": 37,
      "outputs": [
        {
          "output_type": "stream",
          "name": "stdout",
          "text": [
            "Decorator One: Before function execution\n",
            "Decorator Two: Before function execution\n",
            "Hello, Alice! You are 30 years old.\n",
            "Decorator Two: After function execution\n",
            "Decorator One: After function execution\n"
          ]
        }
      ]
    },
    {
      "cell_type": "code",
      "source": [
        "# 56. Create a decorator that preserves the metadata of the original function.\n",
        "\n",
        "import functools\n",
        "\n",
        "# Decorator that preserves the metadata of the original function\n",
        "def preserve_metadata(func):\n",
        "    @functools.wraps(func)  # This preserves the metadata of the original function\n",
        "    def wrapper(*args, **kwargs):\n",
        "        print(f\"Function '{func.__name__}' is being executed.\")\n",
        "        result = func(*args, **kwargs)  # Call the original function\n",
        "        print(f\"Function '{func.__name__}' has finished execution.\")\n",
        "        return result\n",
        "    return wrapper\n",
        "\n",
        "# Example function with metadata\n",
        "@preserve_metadata\n",
        "def greet(name):\n",
        "    \"\"\"This function greets a person by name.\"\"\"\n",
        "    print(f\"Hello, {name}!\")\n",
        "\n",
        "# Example usage\n",
        "greet(\"Alice\")\n",
        "\n",
        "# Accessing metadata\n",
        "print(f\"Function name: {greet.__name__}\")\n",
        "print(f\"Function docstring: {greet.__doc__}\")\n"
      ],
      "metadata": {
        "colab": {
          "base_uri": "https://localhost:8080/"
        },
        "id": "9pt4px41C8EQ",
        "outputId": "084b5de7-759c-45d2-fcab-330fb1216ac5"
      },
      "execution_count": 38,
      "outputs": [
        {
          "output_type": "stream",
          "name": "stdout",
          "text": [
            "Function 'greet' is being executed.\n",
            "Hello, Alice!\n",
            "Function 'greet' has finished execution.\n",
            "Function name: greet\n",
            "Function docstring: This function greets a person by name.\n"
          ]
        }
      ]
    },
    {
      "cell_type": "code",
      "source": [
        "\"\"\"\n",
        "57. Create a Python class `Calculator` with a static method `add` that takes in two numbers and returns their\n",
        "sum.\n",
        "\"\"\"\n",
        "\n",
        "class Calculator:\n",
        "    @staticmethod\n",
        "    def add(a, b):\n",
        "        return a + b\n",
        "\n",
        "# Example usage\n",
        "result = Calculator.add(5, 3)\n",
        "print(\"Sum:\", result)  # Output: Sum: 8\n"
      ],
      "metadata": {
        "colab": {
          "base_uri": "https://localhost:8080/"
        },
        "id": "tdqmKgH_DVWh",
        "outputId": "d3823fda-c775-432f-8b29-80112369a32b"
      },
      "execution_count": 39,
      "outputs": [
        {
          "output_type": "stream",
          "name": "stdout",
          "text": [
            "Sum: 8\n"
          ]
        }
      ]
    },
    {
      "cell_type": "code",
      "source": [
        "\"\"\"\n",
        "58. Create a Python class `Employee` with a class `method get_employee_count` that returns the total\n",
        "number of employees created.\n",
        "\"\"\"\n",
        "\n",
        "class Employee:\n",
        "    # Class variable to track the number of employees\n",
        "    employee_count = 0\n",
        "\n",
        "    def __init__(self, name, age):\n",
        "        # Instance variables\n",
        "        self.name = name\n",
        "        self.age = age\n",
        "        # Increment the employee count each time a new employee is created\n",
        "        Employee.employee_count += 1\n",
        "\n",
        "    @classmethod\n",
        "    def get_employee_count(cls):\n",
        "        # Class method that returns the total number of employees\n",
        "        return cls.employee_count\n",
        "\n",
        "# Example usage\n",
        "emp1 = Employee(\"Alice\", 30)\n",
        "emp2 = Employee(\"Bob\", 25)\n",
        "emp3 = Employee(\"Charlie\", 35)\n",
        "\n",
        "# Getting the total number of employees created\n",
        "print(\"Total employees:\", Employee.get_employee_count())  # Output: Total employees: 3\n"
      ],
      "metadata": {
        "colab": {
          "base_uri": "https://localhost:8080/"
        },
        "id": "sEgiis9iDv_9",
        "outputId": "8667550c-fd3a-4a0d-bb35-1ad5132d0b39"
      },
      "execution_count": 40,
      "outputs": [
        {
          "output_type": "stream",
          "name": "stdout",
          "text": [
            "Total employees: 3\n"
          ]
        }
      ]
    },
    {
      "cell_type": "code",
      "source": [
        "\"\"\"\n",
        "59. Create a Python class `StringFormatter` with a static method `reverse_string` that takes a string as input\n",
        "and returns its reverse.\n",
        "\"\"\"\n",
        "\n",
        "class StringFormatter:\n",
        "    @staticmethod\n",
        "    def reverse_string(input_string):\n",
        "        # Reverse the input string and return it\n",
        "        return input_string[::-1]\n",
        "\n",
        "# Example usage\n",
        "result = StringFormatter.reverse_string(\"hello\")\n",
        "print(\"Reversed String:\", result)  # Output: Reversed String: olleh\n"
      ],
      "metadata": {
        "colab": {
          "base_uri": "https://localhost:8080/"
        },
        "id": "QvSpucUNEIc4",
        "outputId": "127d52c5-f318-4438-f7c6-58f2c1584a2c"
      },
      "execution_count": 41,
      "outputs": [
        {
          "output_type": "stream",
          "name": "stdout",
          "text": [
            "Reversed String: olleh\n"
          ]
        }
      ]
    },
    {
      "cell_type": "code",
      "source": [
        "\"\"\"\n",
        "60. Create a Python class `Circle` with a class method `calculate_area` that calculates the area of a circle\n",
        "given its radius.\n",
        "\"\"\"\n",
        "\n",
        "import math\n",
        "\n",
        "class Circle:\n",
        "    @classmethod\n",
        "    def calculate_area(cls, radius):\n",
        "        # Calculate the area of the circle using the formula: Area = π * r^2\n",
        "        return math.pi * (radius ** 2)\n",
        "\n",
        "# Example usage\n",
        "radius = 5\n",
        "area = Circle.calculate_area(radius)\n",
        "print(f\"The area of the circle with radius {radius} is: {area:.2f}\")\n"
      ],
      "metadata": {
        "colab": {
          "base_uri": "https://localhost:8080/"
        },
        "id": "qoMATQ9TEeoG",
        "outputId": "f8a56b9a-2e8d-48fd-a5d2-75db21aa8513"
      },
      "execution_count": 42,
      "outputs": [
        {
          "output_type": "stream",
          "name": "stdout",
          "text": [
            "The area of the circle with radius 5 is: 78.54\n"
          ]
        }
      ]
    },
    {
      "cell_type": "code",
      "source": [
        "\"\"\"\n",
        "61. Create a Python class `TemperatureConverter` with a static method `celsius_to_fahrenheit` that converts\n",
        "Celsius to Fahrenheit.\n",
        "\"\"\"\n",
        "\n",
        "class TemperatureConverter:\n",
        "    @staticmethod\n",
        "    def celsius_to_fahrenheit(celsius):\n",
        "        # Convert Celsius to Fahrenheit using the formula\n",
        "        return (celsius * 9/5) + 32\n",
        "\n",
        "# Example usage\n",
        "celsius_temp = 25\n",
        "fahrenheit_temp = TemperatureConverter.celsius_to_fahrenheit(celsius_temp)\n",
        "print(f\"{celsius_temp}°C is equal to {fahrenheit_temp}°F\")\n"
      ],
      "metadata": {
        "colab": {
          "base_uri": "https://localhost:8080/"
        },
        "id": "ff8IxmQxEwZ9",
        "outputId": "7aa5355c-973c-4261-af1a-4b799208c545"
      },
      "execution_count": 43,
      "outputs": [
        {
          "output_type": "stream",
          "name": "stdout",
          "text": [
            "25°C is equal to 77.0°F\n"
          ]
        }
      ]
    },
    {
      "cell_type": "code",
      "source": [
        "\"\"\"\n",
        "62. What is the purpose of the __str__() method in Python classes? Provide an example.\n",
        "\"\"\"\n",
        "\n",
        "\"\"\"The __str__() method in Python classes is used to define a human-readable string representation of an object, which is automatically called when you use the\n",
        "print() function or the str() function on that object, allowing you to customize how your object is displayed in output; essentially, it controls how an\n",
        "object is presented as a string for user-friendly viewing.\n",
        "\"\"\""
      ],
      "metadata": {
        "id": "rEETcM7cFIOv"
      },
      "execution_count": null,
      "outputs": []
    },
    {
      "cell_type": "code",
      "source": [
        "# 63. How does the __len__() method work in Python? Provide an example.\n",
        "\n",
        "\"\"\"\n",
        "__len__() method. This allows you to customize what length means for your objects. For example, with pandas DataFrames, len() returns the number of rows.\n",
        "Mastering len() not only enhances your grasp of Python's data structures but also empowers you to craft more robust and adaptable programs\n",
        "\"\"\"\n",
        "\n",
        "class Box:\n",
        "    def __init__(self, items):\n",
        "        self.items = items\n",
        "\n",
        "    def __len__(self):\n",
        "        # The length of the box is the number of items in it\n",
        "        return len(self.items)\n",
        "\n",
        "# Example usage\n",
        "my_box = Box([\"apple\", \"banana\", \"orange\"])\n",
        "print(\"Length of the box:\", len(my_box))  # Output: Length of the box: 3\n"
      ],
      "metadata": {
        "colab": {
          "base_uri": "https://localhost:8080/"
        },
        "id": "-xy6spNuFsEt",
        "outputId": "f8380860-f134-4f16-dbc8-db000e4ace79"
      },
      "execution_count": 44,
      "outputs": [
        {
          "output_type": "stream",
          "name": "stdout",
          "text": [
            "Length of the box: 3\n"
          ]
        }
      ]
    },
    {
      "cell_type": "code",
      "source": [
        "# 64. Explain the usage of the __add__() method in Python classes. Provide an example.\n",
        "\n",
        "\"\"\"\n",
        "In Python, the __add__() method, also known as a \"magic method,\" is used to define how instances of your custom class should behave when the addition\n",
        "operator (+) is used on them; essentially, it allows you to customize addition operations for your class objects, enabling you to add them together like\n",
        "built-in data types like integers or floats.\n",
        "\"\"\"\n",
        "\n",
        "class Point:\n",
        "    def __init__(self, x, y):\n",
        "        self.x = x\n",
        "        self.y = y\n",
        "\n",
        "    def __add__(self, other):\n",
        "        # Add the corresponding x and y coordinates\n",
        "        return Point(self.x + other.x, self.y + other.y)\n",
        "\n",
        "    def __repr__(self):\n",
        "        return f\"Point({self.x}, {self.y})\"\n",
        "\n",
        "# Example usage\n",
        "point1 = Point(2, 3)\n",
        "point2 = Point(5, 7)\n",
        "\n",
        "# Adding two Point objects\n",
        "point3 = point1 + point2\n",
        "\n",
        "print(\"point1:\", point1)\n",
        "print(\"point2:\", point2)\n",
        "print(\"point3 (sum):\", point3)\n"
      ],
      "metadata": {
        "colab": {
          "base_uri": "https://localhost:8080/"
        },
        "id": "miQApYOkGSlb",
        "outputId": "dc265398-f8ce-440c-e24c-930968c911b3"
      },
      "execution_count": 45,
      "outputs": [
        {
          "output_type": "stream",
          "name": "stdout",
          "text": [
            "point1: Point(2, 3)\n",
            "point2: Point(5, 7)\n",
            "point3 (sum): Point(7, 10)\n"
          ]
        }
      ]
    },
    {
      "cell_type": "code",
      "source": [
        "# 65. What is the purpose of the __getitem__() method in Python? Provide an example.\n",
        "\n",
        "\"\"\"\n",
        "In Python, the __getitem__() method is a \"magic method\" that allows custom objects to be accessed using the square bracket notation ([]), essentially\n",
        "enabling you to retrieve elements from an object as if it were a list or dictionary, by defining how the object should respond when an index is used to\n",
        "access its data; it's automatically called whenever you try to access an element using the [] operator on an object instance\n",
        "\"\"\"\n",
        "\n",
        "class MyList:\n",
        "    def __init__(self, items):\n",
        "        self.items = items\n",
        "\n",
        "    def __getitem__(self, index):\n",
        "        # Return the element at the given index\n",
        "        return self.items[index]\n",
        "\n",
        "# Example usage\n",
        "my_list = MyList([10, 20, 30, 40, 50])\n",
        "\n",
        "# Access elements using indexing\n",
        "print(my_list[0])  # Output: 10\n",
        "print(my_list[3])  # Output: 40\n",
        "\n",
        "\n"
      ],
      "metadata": {
        "colab": {
          "base_uri": "https://localhost:8080/"
        },
        "id": "LKAoAs7RG7qa",
        "outputId": "256ba5c7-25b3-43a8-b92c-893746b99c5f"
      },
      "execution_count": 46,
      "outputs": [
        {
          "output_type": "stream",
          "name": "stdout",
          "text": [
            "10\n",
            "40\n"
          ]
        }
      ]
    },
    {
      "cell_type": "code",
      "source": [
        "\"\"\"\n",
        "66. Explain the usage of the __iter__() and __next__() methods in Python. Provide an example using\n",
        "iterators.\n",
        "\"\"\"\n",
        "\n",
        "\"\"\"\n",
        "In Python, the __iter__() and __next__() methods are special methods used to create iterators, which are objects that allow you to iterate through a\n",
        "sequence of values one at a time; __iter__() initializes the iterator and returns itself, while __next__() returns the next element in the sequence,\n",
        "raising a StopIteration exception when there are no more elements left.\n",
        "\"\"\"\n",
        "\n",
        "class SquareIterator:\n",
        "    def __init__(self, n):\n",
        "        self.n = n  # Total number of squares to generate\n",
        "        self.current = 1  # Start with the first square\n",
        "\n",
        "    def __iter__(self):\n",
        "        # Return the iterator object itself\n",
        "        return self\n",
        "\n",
        "    def __next__(self):\n",
        "        # Check if we've reached the end of the sequence\n",
        "        if self.current > self.n:\n",
        "            raise StopIteration  # Signal that iteration is complete\n",
        "        square = self.current ** 2  # Calculate the square of the current number\n",
        "        self.current += 1  # Move to the next number\n",
        "        return square\n",
        "\n",
        "# Example usage\n",
        "square_iterator = SquareIterator(5)  # Create an iterator for the first 5 squares\n",
        "\n",
        "# Using a for loop to iterate over the iterator\n",
        "for square in square_iterator:\n",
        "    print(square)\n"
      ],
      "metadata": {
        "colab": {
          "base_uri": "https://localhost:8080/"
        },
        "id": "vEdeKqSmHj7U",
        "outputId": "02339c36-1112-407d-d791-55bf5a5cf52d"
      },
      "execution_count": 47,
      "outputs": [
        {
          "output_type": "stream",
          "name": "stdout",
          "text": [
            "1\n",
            "4\n",
            "9\n",
            "16\n",
            "25\n"
          ]
        }
      ]
    },
    {
      "cell_type": "code",
      "source": [
        "\"\"\"\n",
        "67. What is the purpose of a getter method in Python? Provide an example demonstrating the use of a getter\n",
        "method using property decorators.\n",
        "\"\"\"\n",
        "\n",
        "class Person:\n",
        "    def __init__(self, name, age):\n",
        "        self.name = name\n",
        "        self._age = age  # Private attribute\n",
        "\n",
        "    @property\n",
        "    def age(self):\n",
        "        # Getter method to access the private _age attribute\n",
        "        return self._age\n",
        "\n",
        "    @age.setter\n",
        "    def age(self, value):\n",
        "        # Setter method to ensure age is non-negative\n",
        "        if value >= 0:\n",
        "            self._age = value\n",
        "        else:\n",
        "            print(\"Age cannot be negative.\")\n",
        "\n",
        "    @property\n",
        "    def age_in_months(self):\n",
        "        # Computed property: returns the age in months\n",
        "        return self._age * 12\n",
        "\n",
        "# Example usage\n",
        "person = Person(\"Alice\", 25)\n",
        "\n",
        "# Accessing the age using the getter method (without parentheses)\n",
        "print(f\"{person.name}'s age is: {person.age}\")  # Output: Alice's age is: 25\n",
        "\n",
        "# Modifying the age using the setter method\n",
        "person.age = 30  # This updates the _age attribute to 30\n",
        "print(f\"{person.name}'s new age is: {person.age}\")  # Output: Alice's new age is: 30\n",
        "\n",
        "# Accessing a computed property (age in months)\n",
        "print(f\"{person.name}'s age in months is: {person.age_in_months}\")  # Output: Alice's age in months is: 360\n",
        "\n",
        "# Trying to set an invalid age\n",
        "person.age = -5  # Output: Age cannot be negative.\n"
      ],
      "metadata": {
        "colab": {
          "base_uri": "https://localhost:8080/"
        },
        "id": "mPhUikrBIQkq",
        "outputId": "4a519930-75ae-422b-80a9-f15a226ec433"
      },
      "execution_count": 48,
      "outputs": [
        {
          "output_type": "stream",
          "name": "stdout",
          "text": [
            "Alice's age is: 25\n",
            "Alice's new age is: 30\n",
            "Alice's age in months is: 360\n",
            "Age cannot be negative.\n"
          ]
        }
      ]
    },
    {
      "cell_type": "code",
      "source": [
        "\"\"\"\n",
        "68. Explain the role of setter methods in Python. Demonstrate how to use a setter method to modify a class\n",
        "attribute using property decorators.\n",
        "\"\"\"\n",
        "\n",
        "\"\"\"\n",
        "A setter method in Python is a special method within a class that allows controlled modification of an attribute's value, essentially acting as a gatekeeper\n",
        "to ensure data integrity by performing validation or other operations before assigning a new value to the attribute; this is typically achieved using the\n",
        "@property decorator to create a more intuitive syntax for accessing and setting attributes like you would with a regular variable\n",
        "\"\"\"\n",
        "\n",
        "class Person:\n",
        "    def __init__(self, name, age):\n",
        "        self.name = name\n",
        "        self._age = age  # Private attribute\n",
        "\n",
        "    @property\n",
        "    def age(self):\n",
        "        # Getter method: returns the value of age\n",
        "        return self._age\n",
        "\n",
        "    @age.setter\n",
        "    def age(self, value):\n",
        "        # Setter method: ensures the age is non-negative\n",
        "        if value >= 0:\n",
        "            self._age = value\n",
        "        else:\n",
        "            print(\"Age cannot be negative.\")\n",
        "\n",
        "# Example usage\n",
        "person = Person(\"John\", 30)\n",
        "\n",
        "# Accessing the age using the getter method (without parentheses)\n",
        "print(f\"{person.name}'s age is: {person.age}\")  # Output: John's age is: 30\n",
        "\n",
        "# Modifying the age using the setter method\n",
        "person.age = 35  # This updates the _age attribute to 35\n",
        "print(f\"{person.name}'s new age is: {person.age}\")  # Output: John's new age is: 35\n",
        "\n",
        "# Trying to set an invalid (negative) age\n",
        "person.age = -5  # Output: Age cannot be negative.\n"
      ],
      "metadata": {
        "colab": {
          "base_uri": "https://localhost:8080/"
        },
        "id": "fyVsbf4-ItYc",
        "outputId": "7f46a2ec-f7ef-4e81-92f5-de01fda39663"
      },
      "execution_count": 49,
      "outputs": [
        {
          "output_type": "stream",
          "name": "stdout",
          "text": [
            "John's age is: 30\n",
            "John's new age is: 35\n",
            "Age cannot be negative.\n"
          ]
        }
      ]
    },
    {
      "cell_type": "code",
      "source": [
        "# 69. What is the purpose of the @property decorator in Python? Provide an example illustrating its usage.\n",
        "\n",
        "\"\"\"\n",
        "The @property decorator in Python allows you to define methods within a class that can be accessed as if they were attributes, providing a cleaner way to\n",
        "control how data is accessed and modified within an object, including adding logic like validation checks or calculations before returning a value;\n",
        "essentially, it enables you to create \"getter\" and \"setter\" methods with attribute-like syntax\n",
        "\"\"\"\n",
        "\n",
        "class Rectangle:\n",
        "    def __init__(self, length, width):\n",
        "        self._length = length  # Private attribute for length\n",
        "        self._width = width    # Private attribute for width\n",
        "\n",
        "    @property\n",
        "    def area(self):\n",
        "        # Computed property: returns the area of the rectangle\n",
        "        return self._length * self._width\n",
        "\n",
        "    @property\n",
        "    def length(self):\n",
        "        return self._length\n",
        "\n",
        "    @length.setter\n",
        "    def length(self, value):\n",
        "        if value > 0:\n",
        "            self._length = value\n",
        "        else:\n",
        "            print(\"Length must be a positive value.\")\n",
        "\n",
        "    @property\n",
        "    def width(self):\n",
        "        return self._width\n",
        "\n",
        "    @width.setter\n",
        "    def width(self, value):\n",
        "        if value > 0:\n",
        "            self._width = value\n",
        "        else:\n",
        "            print(\"Width must be a positive value.\")\n",
        "\n",
        "# Example usage\n",
        "rectangle = Rectangle(5, 3)\n",
        "\n",
        "# Accessing the area using the property (without parentheses)\n",
        "print(f\"Area of rectangle: {rectangle.area}\")  # Output: Area of rectangle: 15\n",
        "\n",
        "# Modifying length and width using setter methods\n",
        "rectangle.length = 10\n",
        "rectangle.width = 4\n",
        "\n",
        "# Accessing the updated area\n",
        "print(f\"Updated area of rectangle: {rectangle.area}\")  # Output: Updated area of rectangle: 40\n",
        "\n",
        "# Trying to set invalid length or width\n",
        "rectangle.length = -5  # Output: Length must be a positive value.\n",
        "rectangle.width = -2   # Output: Width must be a positive value.\n"
      ],
      "metadata": {
        "colab": {
          "base_uri": "https://localhost:8080/"
        },
        "id": "Is6SKnWIJn-e",
        "outputId": "90cb57f4-8d46-4918-9b53-57060b7b017b"
      },
      "execution_count": 50,
      "outputs": [
        {
          "output_type": "stream",
          "name": "stdout",
          "text": [
            "Area of rectangle: 15\n",
            "Updated area of rectangle: 40\n",
            "Length must be a positive value.\n",
            "Width must be a positive value.\n"
          ]
        }
      ]
    },
    {
      "cell_type": "code",
      "source": [
        "\"\"\"\n",
        "70. Explain the use of the @deleter decorator in Python property decorators. Provide a code example\n",
        "demonstrating its application.\n",
        "\"\"\"\n",
        "\n",
        "\"\"\"\n",
        "In Python, the @deleter decorator, used within the @property decorator, allows you to define custom logic that executes when an attribute of a class is\n",
        "deleted using the del keyword, essentially providing controlled deletion behavior for a property; it gives you the ability to perform specific actions like\n",
        "logging, resource cleanup, or validation before an attribute is removed from an object.\n",
        "\"\"\"\n",
        "\n",
        "class Person:\n",
        "    def __init__(self, name):\n",
        "        self._name = name  # Private attribute\n",
        "\n",
        "    @property\n",
        "    def name(self):\n",
        "        # Getter method: returns the name\n",
        "        return self._name\n",
        "\n",
        "    @name.setter\n",
        "    def name(self, value):\n",
        "        # Setter method: sets the name\n",
        "        if len(value) > 0:\n",
        "            self._name = value\n",
        "        else:\n",
        "            print(\"Name cannot be empty.\")\n",
        "\n",
        "    @name.deleter\n",
        "    def name(self):\n",
        "        # Deleter method: deletes the name and prints a message\n",
        "        print(f\"Deleting the name: {self._name}\")\n",
        "        del self._name\n",
        "\n",
        "# Example usage\n",
        "person = Person(\"John\")\n",
        "\n",
        "# Accessing the name using the getter method\n",
        "print(f\"Person's name: {person.name}\")  # Output: Person's name: John\n",
        "\n",
        "# Modifying the name using the setter method\n",
        "person.name = \"Alice\"\n",
        "print(f\"Person's updated name: {person.name}\")  # Output: Person's updated name: Alice\n",
        "\n",
        "# Deleting the name using the deleter method\n",
        "del person.name  # Output: Deleting the name: Alice\n",
        "\n",
        "# Trying to access the name after deletion (will raise an AttributeError)\n",
        "try:\n",
        "    print(person.name)\n",
        "except AttributeError as e:\n",
        "    print(f\"Error: {e}\")  # Output: Error: 'Person' object has no attribute '_name'\n"
      ],
      "metadata": {
        "colab": {
          "base_uri": "https://localhost:8080/"
        },
        "id": "OBotnPeZKN8G",
        "outputId": "60b74077-403e-4bac-8c7c-607d3482fdef"
      },
      "execution_count": 51,
      "outputs": [
        {
          "output_type": "stream",
          "name": "stdout",
          "text": [
            "Person's name: John\n",
            "Person's updated name: Alice\n",
            "Deleting the name: Alice\n",
            "Error: 'Person' object has no attribute '_name'\n"
          ]
        }
      ]
    }
  ]
}